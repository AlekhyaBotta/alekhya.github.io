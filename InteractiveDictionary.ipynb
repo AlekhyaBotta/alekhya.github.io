{
 "cells": [
  {
   "cell_type": "markdown",
   "metadata": {},
   "source": [
    "Step 1: Importing json and loading the dictionary file"
   ]
  },
  {
   "cell_type": "code",
   "execution_count": 31,
   "metadata": {},
   "outputs": [],
   "source": [
    "import json\n",
    "import difflib\n",
    "from difflib import get_close_matches\n",
    "data = json.load(open(\"dictionary.json\"))"
   ]
  },
  {
   "cell_type": "markdown",
   "metadata": {},
   "source": [
    "Step 2: Wring a function to retrieve the meaning of the word entered"
   ]
  },
  {
   "cell_type": "code",
   "execution_count": 54,
   "metadata": {},
   "outputs": [],
   "source": [
    "def retrieve_meaning(input_word):\n",
    "    if input_word.lower() in data:\n",
    "        return data[input_word.lower()]\n",
    "    elif input_word.title() in data:\n",
    "        return data[input_word.title()]\n",
    "    elif input_word.upper() in data:\n",
    "        return data[input_word.upper()]\n",
    "    elif len(get_close_matches(input_word,data.keys()))>0:\n",
    "        action = input(\"Did you mean %s instead? [y or n]: \" % get_close_matches(input_word, data.keys())[0])\n",
    "        if (action == \"y\"):\n",
    "            return data[get_close_matches(input_word, data.keys())[0]]\n",
    "        elif (action == \"n\"):\n",
    "            return (\"The word doesn't exist, yet.\")\n",
    "        else:\n",
    "            return (\"We don't understand your entry. Apologies.\")"
   ]
  },
  {
   "cell_type": "markdown",
   "metadata": {},
   "source": [
    "Step 3: User input"
   ]
  },
  {
   "cell_type": "code",
   "execution_count": 55,
   "metadata": {},
   "outputs": [
    {
     "name": "stdout",
     "output_type": "stream",
     "text": [
      "Please enter a word here: rains\n",
      "Did you mean rain instead? [y or n]: y\n",
      "['Precipitation in the form of liquid water drops with diameters greater than 0.5 millimetres.', 'To fall from the clouds in drops of water.']\n"
     ]
    }
   ],
   "source": [
    "user_input = input(\"Please enter a word here: \")\n",
    "print(retrieve_meaning(user_input))"
   ]
  },
  {
   "cell_type": "code",
   "execution_count": 12,
   "metadata": {},
   "outputs": [
    {
     "name": "stdout",
     "output_type": "stream",
     "text": [
      "absfrt\n"
     ]
    }
   ],
   "source": [
    "import difflib\n",
    "difflib.get_close_matches(\"user\")"
   ]
  },
  {
   "cell_type": "code",
   "execution_count": null,
   "metadata": {},
   "outputs": [],
   "source": [
    "return (\"If you mean\" get_close_matches(input_word,data.keys()[0] \", the meaning:\" % data[get_close_matches(input_word,data.keys()[0])]"
   ]
  }
 ],
 "metadata": {
  "kernelspec": {
   "display_name": "Python 3",
   "language": "python",
   "name": "python3"
  },
  "language_info": {
   "codemirror_mode": {
    "name": "ipython",
    "version": 3
   },
   "file_extension": ".py",
   "mimetype": "text/x-python",
   "name": "python",
   "nbconvert_exporter": "python",
   "pygments_lexer": "ipython3",
   "version": "3.7.1"
  }
 },
 "nbformat": 4,
 "nbformat_minor": 2
}
